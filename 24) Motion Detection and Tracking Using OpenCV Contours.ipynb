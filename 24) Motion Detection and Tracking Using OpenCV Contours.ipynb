{
 "cells": [
  {
   "cell_type": "code",
   "execution_count": 2,
   "metadata": {},
   "outputs": [],
   "source": [
    "import cv2 as cv"
   ]
  },
  {
   "cell_type": "markdown",
   "metadata": {},
   "source": [
    "# Motion Detection (Comparing frame by previous frame)"
   ]
  },
  {
   "cell_type": "code",
   "execution_count": 14,
   "metadata": {},
   "outputs": [],
   "source": [
    "video = cv.VideoCapture('vtest.avi')\n",
    "\n",
    "check, frame1 = video.read() #1st initial frame\n",
    "check, frame2 = video.read() #2nd initial frame\n",
    "\n",
    "while 1:\n",
    "    abs_difference = cv.absdiff(frame1, frame2) #finding differences in 2 frames & generating frame showing differences.\n",
    "    gray_frame = cv.cvtColor(abs_difference, cv.COLOR_BGR2GRAY) #to Grayscale\n",
    "    gaussian_blur = cv.GaussianBlur(gray_frame, (5, 5), 0) #bluring/averaging\n",
    "    _, mask = cv.threshold(gaussian_blur, 50, 255, cv.THRESH_BINARY) #binarize\n",
    "#     morphology_open = cv.morphologyEx(mask, cv.MORPH_OPEN, None, iterations=1) #will 'erode/reduce' first then 'dilate/enhance'.\n",
    "    dilated = cv.dilate(mask, None, iterations=3) #enhancing\n",
    "    contours, _ = cv.findContours(dilated, cv.RETR_TREE, cv.CHAIN_APPROX_SIMPLE) #finding contours\n",
    "    \n",
    "    for contour in contours: #to make rectangle on each contour\n",
    "        if cv.contourArea(contour) < 900: \n",
    "            continue\n",
    "            \n",
    "        x, y, w, h = cv.boundingRect(contour) #to get 'top-left' point (x, y) & width, Height of each contour.\n",
    "        cv.rectangle(frame1, (x, y), (x+w, y+h), (0,255,0), 2)\n",
    "#         cv.drawContours(frame1, contour, -1, (0,255,0), 2) #to draw detected contours\n",
    "    cv.imshow('frame1', frame1)\n",
    "    frame1 = frame2\n",
    "    check, frame2 = video.read() #to get next frame\n",
    "    if check == False: #if no frame is available\n",
    "        break\n",
    "    #to watch every layer\n",
    "#     cv.imshow('frame', frame1)\n",
    "#     cv.imshow('abs_difference', abs_difference)\n",
    "#     cv.imshow('gray_frame', gray_frame)\n",
    "#     cv.imshow('gaussian_blur', gaussian_blur)\n",
    "#     cv.imshow('mask', mask)\n",
    "#     cv.imshow('dilated', dilated)\n",
    "\n",
    "    if cv.waitKey(100) == ord(' '):\n",
    "        break\n",
    "        \n",
    "video.release()\n",
    "cv.destroyAllWindows()"
   ]
  }
 ],
 "metadata": {
  "kernelspec": {
   "display_name": "Python 3",
   "language": "python",
   "name": "python3"
  },
  "language_info": {
   "codemirror_mode": {
    "name": "ipython",
    "version": 3
   },
   "file_extension": ".py",
   "mimetype": "text/x-python",
   "name": "python",
   "nbconvert_exporter": "python",
   "pygments_lexer": "ipython3",
   "version": "3.8.1"
  }
 },
 "nbformat": 4,
 "nbformat_minor": 4
}
